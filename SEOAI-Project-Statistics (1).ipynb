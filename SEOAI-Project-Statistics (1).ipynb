{
 "cells": [
  {
   "cell_type": "markdown",
   "id": "85c3df26",
   "metadata": {},
   "source": [
    "Stikprøvestørrelse:"
   ]
  },
  {
   "cell_type": "code",
   "execution_count": 31,
   "id": "1f2453bb",
   "metadata": {},
   "outputs": [
    {
     "name": "stdout",
     "output_type": "stream",
     "text": [
      "Required sample size: 138.0\n"
     ]
    }
   ],
   "source": [
    "from statsmodels.stats.power import NormalIndPower\n",
    "import numpy as np\n",
    "\n",
    "# Parameters\n",
    "alpha = 0.1            # Significance level\n",
    "power = 0.8            # Desired power\n",
    "p0 = 0.5               # Null hypothesis proportion\n",
    "p1 = 0.65              # Expected proportion\n",
    "\n",
    "# Calculate effect size\n",
    "def effect_size(p1, p0):\n",
    "    return (p1 - p0) / np.sqrt(p0 * (1 - p0))\n",
    "\n",
    "es = effect_size(p1, p0)\n",
    "\n",
    "# Compute sample size\n",
    "analysis = NormalIndPower()\n",
    "sample_size = analysis.solve_power(effect_size=es, alpha=alpha, power=power, alternative='two-sided')\n",
    "\n",
    "print(f\"Required sample size: {np.ceil(sample_size)}\")\n"
   ]
  },
  {
   "cell_type": "code",
   "execution_count": 44,
   "id": "83a7dce5",
   "metadata": {},
   "outputs": [
    {
     "data": {
      "text/plain": [
       "0.6018518518518519"
      ]
     },
     "execution_count": 44,
     "metadata": {},
     "output_type": "execute_result"
    }
   ],
   "source": [
    "65/108"
   ]
  },
  {
   "cell_type": "markdown",
   "id": "6dc03cfb",
   "metadata": {},
   "source": [
    "Statistisk undersøgelse af forskel på Engelsk og Dansk prompt"
   ]
  },
  {
   "cell_type": "code",
   "execution_count": 84,
   "id": "a1769a67",
   "metadata": {},
   "outputs": [
    {
     "data": {
      "text/plain": [
       "(0.524373115367311, 0.6793305883363927)"
      ]
     },
     "execution_count": 84,
     "metadata": {},
     "output_type": "execute_result"
    }
   ],
   "source": [
    "# Konfidensinterval for én andel: Menneskelig vurdering\n",
    "n = 108\n",
    "forskellig = 65 # indsæt tal for hvor mange, der er forskellige (0) både for menenskelige vurderinger og chattens vurderinger\n",
    "\n",
    "import statsmodels.stats.proportion as smprop\n",
    "smprop.proportion_confint(forskellig, n, alpha=0.1) # 90% konfidensinterval\n"
   ]
  },
  {
   "cell_type": "code",
   "execution_count": 85,
   "id": "01f370b8",
   "metadata": {},
   "outputs": [
    {
     "data": {
      "text/plain": [
       "(0.5920545909704196, 0.7412787423629137)"
      ]
     },
     "execution_count": 85,
     "metadata": {},
     "output_type": "execute_result"
    }
   ],
   "source": [
    "# Konfidensinterval for én andel: Chat vurdering\n",
    "n = 108\n",
    "forskellig = 72 # indsæt tal for hvor mange, der er forskellige (0) både for menenskelige vurderinger og chattens vurderinger\n",
    "\n",
    "import statsmodels.stats.proportion as smprop\n",
    "smprop.proportion_confint(forskellig, n, alpha=0.1) # 90% konfidensinterval"
   ]
  },
  {
   "cell_type": "code",
   "execution_count": 65,
   "id": "8c30ef2d",
   "metadata": {},
   "outputs": [
    {
     "name": "stdout",
     "output_type": "stream",
     "text": [
      "0.6018518518518519\n",
      "[0.5243662206511676, 0.6793374830525362]\n"
     ]
    }
   ],
   "source": [
    "# (Manuel metode)\n",
    "# compute the standard error\n",
    "p_hat = 65/108\n",
    "print(p_hat)\n",
    "kri_værdi = 1.645\n",
    "se_p_hat = np.sqrt(p_hat*(1-p_hat)/n)\n",
    "\n",
    "# compute confidence-interval using normal-approximation\n",
    "print([p_hat - kri_værdi*se_p_hat, p_hat + kri_værdi*se_p_hat])"
   ]
  },
  {
   "cell_type": "markdown",
   "id": "a3ed49d7",
   "metadata": {},
   "source": [
    "Comparing human eval with ChatGPT Eval:\n",
    "\n",
    "- McNemars Test:"
   ]
  },
  {
   "cell_type": "code",
   "execution_count": 81,
   "id": "9c5033d0",
   "metadata": {},
   "outputs": [
    {
     "name": "stdout",
     "output_type": "stream",
     "text": [
      "[[57 15]\n",
      " [ 7 29]]\n",
      "Statistic: 2.227272727272727\n",
      "P-value: 0.13559300126630158\n"
     ]
    }
   ],
   "source": [
    "from statsmodels.stats.contingency_tables import mcnemar\n",
    "import numpy as np\n",
    "\n",
    "# Confusion table\n",
    "#              Human Same   Human diff\n",
    "# Copilot Same       a          b\n",
    "# Copilot Diff       c          d\n",
    "\n",
    "menneske = [\n",
    "    1, 0, 1, 0, 0, 0, 1, 1, 1, 0,\n",
    "    0, 1, 0, 0, 1, 0, 1, 0, 1, 1,\n",
    "    1, 1, 1, 1, 0, 1, 0, 1, 1, 1,\n",
    "    1, 0, 0, 1, 0, 1, 1, 1, 1, 1,\n",
    "    1, 0, 0, 0, 0, 1, 1, 1, 0, 1,\n",
    "    1, 1, 1, 1, 1, 0, 1, 0, 0, 0,\n",
    "    0, 1, 0, 0, 1, 1, 0, 0, 0, 1,\n",
    "    1, 1, 1, 1, 1, 0, 1, 0, 1, 1,\n",
    "    1, 1, 0, 0, 1, 0, 0, 0, 1, 1,\n",
    "    1, 0, 0, 1, 1, 0, 0, 1, 0, 1,\n",
    "    0, 1, 1, 0, 1, 1, 1, 1\n",
    "]\n",
    "copilot = [\n",
    "    1, 1, 0, 0, 0, 0, 1, 0, 0, 1,\n",
    "    0, 1, 0, 0, 1, 0, 1, 1, 1, 1,\n",
    "    0, 1, 1, 1, 1, 0, 1, 1, 1, 1,\n",
    "    1, 0, 0, 1, 0, 1, 0, 1, 1, 1,\n",
    "    1, 1, 1, 1, 0, 1, 1, 1, 0, 1,\n",
    "    1, 1, 1, 1, 1, 1, 1, 1, 0,\n",
    "    0, 0, 1, 1, 0, 1, 1, 0, 0, 0,\n",
    "    1, 1, 1, 1, 1, 0, 1, 1, 0, 1,\n",
    "    1, 1, 1, 0, 1, 1, 0, 0, 0, 1,\n",
    "    1, 1, 1, 0, 1, 1, 0, 0, 1, 1,\n",
    "    1, 0, 1, 1, 0, 1, 1, 1, 1\n",
    "]\n",
    "\n",
    "a = sum((np.array(menneske) == 1) & (np.array(copilot) == 1))\n",
    "b = sum((np.array(menneske) == 0) & (np.array(copilot) == 1))\n",
    "c = sum((np.array(menneske) == 1) & (np.array(copilot) == 0))\n",
    "d = sum((np.array(menneske) == 0) & (np.array(copilot) == 0))\n",
    "\n",
    "table = np.array([[a, b],\n",
    "                  [c, d]])\n",
    "\n",
    "print(table)\n",
    "\n",
    "result = mcnemar(table, exact=False, correction=True)\n",
    "print(f\"Statistic: {result.statistic}\")\n",
    "print(f\"P-value: {result.pvalue}\")"
   ]
  },
  {
   "cell_type": "code",
   "execution_count": 83,
   "id": "e189dd44",
   "metadata": {},
   "outputs": [
    {
     "data": {
      "text/plain": [
       "108"
      ]
     },
     "execution_count": 83,
     "metadata": {},
     "output_type": "execute_result"
    }
   ],
   "source": [
    "57+15+7+29"
   ]
  },
  {
   "cell_type": "markdown",
   "id": "92a89d34",
   "metadata": {},
   "source": [
    "Multiple hypothesis testing"
   ]
  },
  {
   "cell_type": "code",
   "execution_count": null,
   "id": "06764556",
   "metadata": {},
   "outputs": [],
   "source": [
    "# Calculate p-values for each group\n",
    "\n",
    "# Array for andele af forskellige i hver gruppe\n",
    "\n",
    "# Array af antal obs i grupper:\n",
    "\n",
    "z_obs,p_value = smprop.proportions_ztest(count=forskellig, nobs=n, value=0.5, prop_var=0.5)\n",
    "print(z_obs, p_value)"
   ]
  },
  {
   "cell_type": "code",
   "execution_count": null,
   "id": "5b37bf9b",
   "metadata": {},
   "outputs": [],
   "source": [
    "from statsmodels.stats.multitest import multipletests\n",
    "\n",
    "pvals = []\n",
    "\n",
    "reject, pvals_corrected, _, _ = multipletests(pvals, alpha=0.1, method='fdr_bh')\n",
    "\n",
    "print(\"Significant results:\", reject)\n",
    "print(\"Adjusted p-values:\", pvals_corrected)\n"
   ]
  },
  {
   "cell_type": "markdown",
   "id": "3a57fa80",
   "metadata": {},
   "source": [
    "## Chi^2 test"
   ]
  },
  {
   "cell_type": "code",
   "execution_count": 13,
   "id": "8e9bf1c2",
   "metadata": {},
   "outputs": [
    {
     "name": "stdout",
     "output_type": "stream",
     "text": [
      "0.0024848142804233505\n",
      "[[18. 18. 18. 18.]\n",
      " [ 9.  9.  9.  9.]]\n",
      "3\n"
     ]
    }
   ],
   "source": [
    "import scipy.stats as stats\n",
    "import numpy as np\n",
    "groups=['Samfund og Histore','Naturvidenskab','Etik og Moral','Erhverv og Økonomi']\n",
    "table_human=np.array([[8,18,21,17],\n",
    "            [19,9,6,10]])\n",
    "table_gpt=np.array([[12,17,25,18],\n",
    "                    [15,10,2,9]])\n",
    "chi2, p_val, dof, expected = stats.chi2_contingency(table_gpt, correction=False)\n",
    "print(p_val)\n",
    "print(expected)\n",
    "print(dof)"
   ]
  },
  {
   "cell_type": "code",
   "execution_count": 14,
   "id": "744ce345",
   "metadata": {},
   "outputs": [
    {
     "name": "stdout",
     "output_type": "stream",
     "text": [
      "Samfund og Histore vs Naturvidenskab: p-value = 0.2750\n",
      "Samfund og Histore vs Etik og Moral: p-value = 0.0004\n",
      "Samfund og Histore vs Erhverv og Økonomi: p-value = 0.1709\n",
      "Naturvidenskab vs Etik og Moral: p-value = 0.0219\n",
      "Naturvidenskab vs Erhverv og Økonomi: p-value = 1.0000\n",
      "Etik og Moral vs Erhverv og Økonomi: p-value = 0.0426\n"
     ]
    }
   ],
   "source": [
    "for i in range(len(groups)):\n",
    "    for j in range(i + 1, len(groups)):\n",
    "        sub_table = table_gpt[:, [i, j]]\n",
    "        chi2, p, _, _ = stats.chi2_contingency(sub_table)\n",
    "        print(f\"{groups[i]} vs {groups[j]}: p-value = {p:.4f}\")\n"
   ]
  },
  {
   "cell_type": "code",
   "execution_count": 10,
   "id": "55cfa62d",
   "metadata": {},
   "outputs": [
    {
     "data": {
      "text/plain": [
       "0.008333333333333333"
      ]
     },
     "execution_count": 10,
     "metadata": {},
     "output_type": "execute_result"
    }
   ],
   "source": [
    "alpha_bonferroni=0.05/6\n",
    "alpha_bonferroni"
   ]
  }
 ],
 "metadata": {
  "kernelspec": {
   "display_name": "base",
   "language": "python",
   "name": "python3"
  },
  "language_info": {
   "codemirror_mode": {
    "name": "ipython",
    "version": 3
   },
   "file_extension": ".py",
   "mimetype": "text/x-python",
   "name": "python",
   "nbconvert_exporter": "python",
   "pygments_lexer": "ipython3",
   "version": "3.11.9"
  }
 },
 "nbformat": 4,
 "nbformat_minor": 5
}
